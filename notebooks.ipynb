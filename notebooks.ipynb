{
 "cells": [
  {
   "cell_type": "code",
   "execution_count": 1,
   "id": "fed5a386",
   "metadata": {},
   "outputs": [],
   "source": [
    "import pandas as pd\n",
    "import numpy as np\n",
    "import matplotlib.pyplot as plt\n",
    "import seaborn as sns"
   ]
  },
  {
   "cell_type": "code",
   "execution_count": 4,
   "id": "46f4b638",
   "metadata": {},
   "outputs": [],
   "source": [
    "gdp_df = pd.read_csv(r\"C:\\Users\\dougl\\DA12\\projects\\un-python-Dkaplan8\\data\\gdp_percapita.csv\")"
   ]
  },
  {
   "cell_type": "code",
   "execution_count": 5,
   "id": "9424a9b3",
   "metadata": {},
   "outputs": [
    {
     "data": {
      "text/html": [
       "<div>\n",
       "<style scoped>\n",
       "    .dataframe tbody tr th:only-of-type {\n",
       "        vertical-align: middle;\n",
       "    }\n",
       "\n",
       "    .dataframe tbody tr th {\n",
       "        vertical-align: top;\n",
       "    }\n",
       "\n",
       "    .dataframe thead th {\n",
       "        text-align: right;\n",
       "    }\n",
       "</style>\n",
       "<table border=\"1\" class=\"dataframe\">\n",
       "  <thead>\n",
       "    <tr style=\"text-align: right;\">\n",
       "      <th></th>\n",
       "      <th>Country or Area</th>\n",
       "      <th>Year</th>\n",
       "      <th>Value</th>\n",
       "      <th>Value Footnotes</th>\n",
       "    </tr>\n",
       "  </thead>\n",
       "  <tbody>\n",
       "    <tr>\n",
       "      <th>0</th>\n",
       "      <td>Afghanistan</td>\n",
       "      <td>2021</td>\n",
       "      <td>1517.016266</td>\n",
       "      <td>NaN</td>\n",
       "    </tr>\n",
       "  </tbody>\n",
       "</table>\n",
       "</div>"
      ],
      "text/plain": [
       "  Country or Area  Year        Value  Value Footnotes\n",
       "0     Afghanistan  2021  1517.016266              NaN"
      ]
     },
     "execution_count": 5,
     "metadata": {},
     "output_type": "execute_result"
    }
   ],
   "source": [
    "gdp_df.head(1)"
   ]
  },
  {
   "cell_type": "markdown",
   "id": "be88511b",
   "metadata": {},
   "source": [
    "5. How many rows and columns are in `gdp_df`? What are the data types of each column?"
   ]
  },
  {
   "cell_type": "code",
   "execution_count": 6,
   "id": "7b2d056f",
   "metadata": {},
   "outputs": [
    {
     "data": {
      "text/plain": [
       "(7662, 4)"
      ]
     },
     "execution_count": 6,
     "metadata": {},
     "output_type": "execute_result"
    }
   ],
   "source": [
    "gdp_df.shape"
   ]
  },
  {
   "cell_type": "code",
   "execution_count": 7,
   "id": "28815717",
   "metadata": {},
   "outputs": [
    {
     "name": "stdout",
     "output_type": "stream",
     "text": [
      "<class 'pandas.core.frame.DataFrame'>\n",
      "RangeIndex: 7662 entries, 0 to 7661\n",
      "Data columns (total 4 columns):\n",
      " #   Column           Non-Null Count  Dtype  \n",
      "---  ------           --------------  -----  \n",
      " 0   Country or Area  7662 non-null   object \n",
      " 1   Year             7662 non-null   int64  \n",
      " 2   Value            7662 non-null   float64\n",
      " 3   Value Footnotes  0 non-null      float64\n",
      "dtypes: float64(2), int64(1), object(1)\n",
      "memory usage: 239.6+ KB\n"
     ]
    }
   ],
   "source": [
    "gdp_df.info()"
   ]
  },
  {
   "cell_type": "markdown",
   "id": "57416a06",
   "metadata": {},
   "source": [
    "6. Drop the `Value Footnotes` column and rename the remaining three to 'Country', 'Year', and 'GDP_Per_Capita'."
   ]
  },
  {
   "cell_type": "code",
   "execution_count": 8,
   "id": "78e082e4",
   "metadata": {},
   "outputs": [
    {
     "data": {
      "text/html": [
       "<div>\n",
       "<style scoped>\n",
       "    .dataframe tbody tr th:only-of-type {\n",
       "        vertical-align: middle;\n",
       "    }\n",
       "\n",
       "    .dataframe tbody tr th {\n",
       "        vertical-align: top;\n",
       "    }\n",
       "\n",
       "    .dataframe thead th {\n",
       "        text-align: right;\n",
       "    }\n",
       "</style>\n",
       "<table border=\"1\" class=\"dataframe\">\n",
       "  <thead>\n",
       "    <tr style=\"text-align: right;\">\n",
       "      <th></th>\n",
       "      <th>Country or Area</th>\n",
       "      <th>Year</th>\n",
       "      <th>Value</th>\n",
       "    </tr>\n",
       "  </thead>\n",
       "  <tbody>\n",
       "    <tr>\n",
       "      <th>0</th>\n",
       "      <td>Afghanistan</td>\n",
       "      <td>2021</td>\n",
       "      <td>1517.016266</td>\n",
       "    </tr>\n",
       "  </tbody>\n",
       "</table>\n",
       "</div>"
      ],
      "text/plain": [
       "  Country or Area  Year        Value\n",
       "0     Afghanistan  2021  1517.016266"
      ]
     },
     "execution_count": 8,
     "metadata": {},
     "output_type": "execute_result"
    }
   ],
   "source": [
    "gdp_df = gdp_df.drop(columns = ['Value Footnotes'])\n",
    "gdp_df.head(1)"
   ]
  },
  {
   "cell_type": "code",
   "execution_count": 9,
   "id": "47767665",
   "metadata": {},
   "outputs": [],
   "source": [
    "gdp_df.columns = ['Country', 'Year', 'GDP_Per_Capita']"
   ]
  },
  {
   "cell_type": "code",
   "execution_count": 10,
   "id": "a4031104",
   "metadata": {},
   "outputs": [
    {
     "name": "stdout",
     "output_type": "stream",
     "text": [
      "          Country  Year  GDP_Per_Capita\n",
      "0     Afghanistan  2021     1517.016266\n",
      "1     Afghanistan  2020     1968.341002\n",
      "2     Afghanistan  2019     2079.921861\n",
      "3     Afghanistan  2018     2060.698973\n",
      "4     Afghanistan  2017     2096.093111\n",
      "...           ...   ...             ...\n",
      "7657     Zimbabwe  1994     2670.106615\n",
      "7658     Zimbabwe  1993     2458.783255\n",
      "7659     Zimbabwe  1992     2468.278257\n",
      "7660     Zimbabwe  1991     2781.787843\n",
      "7661     Zimbabwe  1990     2704.757299\n",
      "\n",
      "[7662 rows x 3 columns]\n"
     ]
    }
   ],
   "source": [
    "print(gdp_df)"
   ]
  },
  {
   "cell_type": "markdown",
   "id": "9996df21",
   "metadata": {},
   "source": [
    "7. How many countries have data for all years? Which countries are missing many years of data? Look at the number of observations per year. What do you notice? "
   ]
  },
  {
   "cell_type": "code",
   "execution_count": 88,
   "id": "81e8b574",
   "metadata": {},
   "outputs": [
    {
     "data": {
      "text/plain": [
       "33"
      ]
     },
     "execution_count": 88,
     "metadata": {},
     "output_type": "execute_result"
    }
   ],
   "source": [
    "gdp_df['Year'].nunique()"
   ]
  },
  {
   "cell_type": "code",
   "execution_count": 90,
   "id": "283ab552",
   "metadata": {},
   "outputs": [
    {
     "name": "stdout",
     "output_type": "stream",
     "text": [
      "                           Year  GDP_Per_Capita\n",
      "Country                                        \n",
      "Djibouti                     10              10\n",
      "Somalia                      10              10\n",
      "Turks and Caicos Islands     12              12\n",
      "Sint Maarten (Dutch part)    14              14\n",
      "Kosovo                       15              15\n",
      "...                         ...             ...\n",
      "Jamaica                      33              33\n",
      "Japan                        33              33\n",
      "Jordan                       33              33\n",
      "IDA total                    33              33\n",
      "Zimbabwe                     33              33\n",
      "\n",
      "[242 rows x 2 columns]\n"
     ]
    }
   ],
   "source": [
    "gdp_df_year_counts = gdp_df.groupby(['Country']).count().sort_values(by = 'Year')\n",
    "print(gdp_df_year_counts)"
   ]
  },
  {
   "cell_type": "code",
   "execution_count": 92,
   "id": "04fb05a7",
   "metadata": {},
   "outputs": [
    {
     "data": {
      "text/plain": [
       "40"
      ]
     },
     "execution_count": 92,
     "metadata": {},
     "output_type": "execute_result"
    }
   ],
   "source": [
    "len(gdp_df_year_counts[gdp_df_year_counts['Year'] < 33])"
   ]
  },
  {
   "cell_type": "markdown",
   "id": "4157a370",
   "metadata": {},
   "source": [
    "8. In this question, you're going to create some plots to show the distribution of GDP per capita for the year 2020. Go to the Python Graph Gallery (https://www.python-graph-gallery.com/) and look at the different types of plots under the Distribution section. Create a histogram, a density plot, a boxplot, and a violin plot. What do you notice when you look at these plots? How do the plots compare and what information can you get out of one type that you can't necessarily get out of the others?\n",
    "9. What was the median GDP per capita value in 2020?"
   ]
  },
  {
   "cell_type": "code",
   "execution_count": 14,
   "id": "a46d3989",
   "metadata": {},
   "outputs": [
    {
     "name": "stdout",
     "output_type": "stream",
     "text": [
      "                          Country  Year  GDP_Per_Capita\n",
      "1                     Afghanistan  2020     1968.341002\n",
      "22    Africa Eastern and Southern  2020     3455.023119\n",
      "55     Africa Western and Central  2020     3957.933804\n",
      "88                        Albania  2020    13278.369769\n",
      "121                       Algeria  2020    10844.770764\n",
      "...                           ...   ...             ...\n",
      "7503                     Viet Nam  2020    10450.622382\n",
      "7536           West Bank and Gaza  2020     5402.538773\n",
      "7565                        World  2020    16204.169107\n",
      "7598                       Zambia  2020     3183.650773\n",
      "7631                     Zimbabwe  2020     1990.319419\n",
      "\n",
      "[242 rows x 3 columns]\n"
     ]
    }
   ],
   "source": [
    "gdp2020 = gdp_df[gdp_df['Year'] == 2020]\n",
    "print(gdp2020)"
   ]
  },
  {
   "cell_type": "code",
   "execution_count": 15,
   "id": "44259b21",
   "metadata": {},
   "outputs": [
    {
     "name": "stderr",
     "output_type": "stream",
     "text": [
      "C:\\Users\\dougl\\anaconda3\\Lib\\site-packages\\seaborn\\_oldcore.py:1119: FutureWarning: use_inf_as_na option is deprecated and will be removed in a future version. Convert inf values to NaN before operating instead.\n",
      "  with pd.option_context('mode.use_inf_as_na', True):\n"
     ]
    },
    {
     "data": {
      "image/png": "[encoded data removed]",
      "text/plain": [
       "<Figure size 640x480 with 1 Axes>"
      ]
     },
     "metadata": {},
     "output_type": "display_data"
    }
   ],
   "source": [
    "#Question 8\n",
    "sns.set_theme(style='darkgrid')\n",
    "sns.histplot(data=gdp2020, x='GDP_Per_Capita', bins=20)\n",
    "plt.show()"
   ]
  },
  {
   "cell_type": "code",
   "execution_count": 16,
   "id": "986cbbe2",
   "metadata": {},
   "outputs": [
    {
     "name": "stderr",
     "output_type": "stream",
     "text": [
      "C:\\Users\\dougl\\anaconda3\\Lib\\site-packages\\seaborn\\_oldcore.py:1119: FutureWarning: use_inf_as_na option is deprecated and will be removed in a future version. Convert inf values to NaN before operating instead.\n",
      "  with pd.option_context('mode.use_inf_as_na', True):\n"
     ]
    },
    {
     "data": {
      "image/png": "[encoded data removed]",
      "text/plain": [
       "<Figure size 640x480 with 1 Axes>"
      ]
     },
     "metadata": {},
     "output_type": "display_data"
    }
   ],
   "source": [
    "sns.kdeplot(gdp2020['GDP_Per_Capita'])\n",
    "plt.show()"
   ]
  },
  {
   "cell_type": "code",
   "execution_count": 17,
   "id": "fe77211c",
   "metadata": {},
   "outputs": [
    {
     "data": {
      "text/plain": [
       "<function matplotlib.pyplot.show(close=None, block=None)>"
      ]
     },
     "execution_count": 17,
     "metadata": {},
     "output_type": "execute_result"
    },
    {
     "data": {
      "image/png": "[encoded data removed]",
      "text/plain": [
       "<Figure size 640x480 with 1 Axes>"
      ]
     },
     "metadata": {},
     "output_type": "display_data"
    }
   ],
   "source": [
    "sns.boxplot(x=gdp2020['Year'], y=gdp2020['GDP_Per_Capita'])\n",
    "plt.title('Gdp_Graph', loc='left')\n",
    "plt.show\n",
    "\n",
    "#ugly, look in walkthrough how to clean up"
   ]
  },
  {
   "cell_type": "code",
   "execution_count": 18,
   "id": "943c2d09",
   "metadata": {},
   "outputs": [
    {
     "data": {
      "text/plain": [
       "<function matplotlib.pyplot.show(close=None, block=None)>"
      ]
     },
     "execution_count": 18,
     "metadata": {},
     "output_type": "execute_result"
    },
    {
     "data": {
      "image/png": "[encoded data removed]",
      "text/plain": [
       "<Figure size 640x480 with 1 Axes>"
      ]
     },
     "metadata": {},
     "output_type": "display_data"
    }
   ],
   "source": [
    "sns.violinplot(x=gdp2020['Year'], y=gdp2020['GDP_Per_Capita'])\n",
    "plt.title('Gdp_Graph', loc='left')\n",
    "plt.show"
   ]
  },
  {
   "cell_type": "markdown",
   "id": "733fa056",
   "metadata": {},
   "source": [
    "9. What was the median GDP per capita value in 2020?"
   ]
  },
  {
   "cell_type": "code",
   "execution_count": 98,
   "id": "ba8371e1",
   "metadata": {},
   "outputs": [
    {
     "name": "stdout",
     "output_type": "stream",
     "text": [
      "13358.0\n"
     ]
    }
   ],
   "source": [
    "gdp_2020_df = gdp_df[gdp_df['Year'] == 2020]\n",
    "median_gdp_2020 = round(gdp_2020_df['GDP_Per_Capita'].median(), 2)\n",
    "print(median_gdp_2020)"
   ]
  },
  {
   "cell_type": "markdown",
   "id": "6e86b5b1",
   "metadata": {},
   "source": [
    "10. For this question, you're going to create some visualizations to compare GDP per capita values for the years 1990, 2000, 2010, and 2020. Start by subsetting your data to just these 4 years into a new DataFrame named gdp_decades. Using this, create the following 4 plots:\n",
    "\t* A boxplot\n",
    "\t* A barplot (check out the Barplot with Seaborn section: https://www.python-graph-gallery.com/barplot/#Seaborn)\n",
    "\t* A scatterplot\n",
    "\t* A scatterplot with a trend line overlaid (see this regplot example: https://www.python-graph-gallery.com/42-custom-linear-regression-fit-seaborn) "
   ]
  },
  {
   "cell_type": "code",
   "execution_count": 20,
   "id": "563fc351",
   "metadata": {},
   "outputs": [],
   "source": [
    "gdp_decades = gdp_df[gdp_df['Year'].isin([1990, 2000, 2010, 2020])]"
   ]
  },
  {
   "cell_type": "code",
   "execution_count": 21,
   "id": "936de3da",
   "metadata": {},
   "outputs": [
    {
     "data": {
      "image/png": "[encoded data removed]",
      "text/plain": [
       "<Figure size 1000x600 with 1 Axes>"
      ]
     },
     "metadata": {},
     "output_type": "display_data"
    }
   ],
   "source": [
    "plt.figure(figsize=(10, 6))\n",
    "sns.boxplot(data=gdp_decades, x='Year', y='GDP_Per_Capita')\n",
    "plt.title('GDP Year Comparison')\n",
    "plt.xlabel('Year')\n",
    "plt.ylabel('GDP per Capita')\n",
    "plt.show()"
   ]
  },
  {
   "cell_type": "code",
   "execution_count": 22,
   "id": "c81827f1",
   "metadata": {},
   "outputs": [
    {
     "data": {
      "image/png": "[encoded data removed]",
      "text/plain": [
       "<Figure size 1000x600 with 1 Axes>"
      ]
     },
     "metadata": {},
     "output_type": "display_data"
    }
   ],
   "source": [
    "plt.figure(figsize=(10, 6))\n",
    "sns.barplot(data=gdp_decades, x='Year', y='GDP_Per_Capita')\n",
    "plt.title('GDP Year Comparison')\n",
    "plt.xlabel('Year')\n",
    "plt.ylabel('GDP per Capita')\n",
    "plt.show()"
   ]
  },
  {
   "cell_type": "code",
   "execution_count": 23,
   "id": "74eb09d9",
   "metadata": {},
   "outputs": [
    {
     "data": {
      "image/png": "[encoded data removed]",
      "text/plain": [
       "<Figure size 1000x600 with 1 Axes>"
      ]
     },
     "metadata": {},
     "output_type": "display_data"
    }
   ],
   "source": [
    "plt.figure(figsize=(10, 6))\n",
    "sns.scatterplot(data=gdp_decades, x='Year', y='GDP_Per_Capita')\n",
    "plt.title('GDP Year Comparison')\n",
    "plt.xlabel('Year')\n",
    "plt.ylabel('GDP per Capita')\n",
    "plt.show()"
   ]
  },
  {
   "cell_type": "code",
   "execution_count": 24,
   "id": "b6ac3afa",
   "metadata": {},
   "outputs": [
    {
     "data": {
      "image/png": "[encoded data removed]",
      "text/plain": [
       "<Figure size 1000x600 with 1 Axes>"
      ]
     },
     "metadata": {},
     "output_type": "display_data"
    }
   ],
   "source": [
    "plt.figure(figsize=(10, 6))\n",
    "sns.scatterplot(data=gdp_decades, x='Year', y='GDP_Per_Capita')\n",
    "sns.regplot(data=gdp_decades, x='Year', y='GDP_Per_Capita', scatter=False, color='green')\n",
    "plt.title('GDP Year Comparison')\n",
    "plt.xlabel('Year')\n",
    "plt.ylabel('GDP per Capita')\n",
    "plt.show()"
   ]
  },
  {
   "cell_type": "markdown",
   "id": "523bdb07",
   "metadata": {},
   "source": [
    "11. Which country was the first to have a GDP per capita greater than $100,000?"
   ]
  },
  {
   "cell_type": "code",
   "execution_count": 99,
   "id": "0339659a",
   "metadata": {},
   "outputs": [
    {
     "data": {
      "text/html": [
       "<div>\n",
       "<style scoped>\n",
       "    .dataframe tbody tr th:only-of-type {\n",
       "        vertical-align: middle;\n",
       "    }\n",
       "\n",
       "    .dataframe tbody tr th {\n",
       "        vertical-align: top;\n",
       "    }\n",
       "\n",
       "    .dataframe thead th {\n",
       "        text-align: right;\n",
       "    }\n",
       "</style>\n",
       "<table border=\"1\" class=\"dataframe\">\n",
       "  <thead>\n",
       "    <tr style=\"text-align: right;\">\n",
       "      <th></th>\n",
       "      <th>Country</th>\n",
       "      <th>Year</th>\n",
       "      <th>GDP_Per_Capita</th>\n",
       "    </tr>\n",
       "  </thead>\n",
       "  <tbody>\n",
       "    <tr>\n",
       "      <th>7661</th>\n",
       "      <td>Zimbabwe</td>\n",
       "      <td>1990</td>\n",
       "      <td>2704.757299</td>\n",
       "    </tr>\n",
       "    <tr>\n",
       "      <th>5391</th>\n",
       "      <td>Pakistan</td>\n",
       "      <td>1990</td>\n",
       "      <td>3061.533388</td>\n",
       "    </tr>\n",
       "    <tr>\n",
       "      <th>6808</th>\n",
       "      <td>TÃ¼rkiye</td>\n",
       "      <td>1990</td>\n",
       "      <td>12535.919639</td>\n",
       "    </tr>\n",
       "    <tr>\n",
       "      <th>5358</th>\n",
       "      <td>Pacific island small states</td>\n",
       "      <td>1990</td>\n",
       "      <td>5140.322553</td>\n",
       "    </tr>\n",
       "    <tr>\n",
       "      <th>711</th>\n",
       "      <td>Bermuda</td>\n",
       "      <td>1990</td>\n",
       "      <td>65961.406278</td>\n",
       "    </tr>\n",
       "    <tr>\n",
       "      <th>...</th>\n",
       "      <td>...</td>\n",
       "      <td>...</td>\n",
       "      <td>...</td>\n",
       "    </tr>\n",
       "    <tr>\n",
       "      <th>646</th>\n",
       "      <td>Benin</td>\n",
       "      <td>2022</td>\n",
       "      <td>3435.171827</td>\n",
       "    </tr>\n",
       "    <tr>\n",
       "      <th>4471</th>\n",
       "      <td>Mauritius</td>\n",
       "      <td>2022</td>\n",
       "      <td>22786.978518</td>\n",
       "    </tr>\n",
       "    <tr>\n",
       "      <th>2656</th>\n",
       "      <td>Guinea</td>\n",
       "      <td>2022</td>\n",
       "      <td>2699.128855</td>\n",
       "    </tr>\n",
       "    <tr>\n",
       "      <th>4537</th>\n",
       "      <td>Micronesia</td>\n",
       "      <td>2022</td>\n",
       "      <td>3264.934866</td>\n",
       "    </tr>\n",
       "    <tr>\n",
       "      <th>4311</th>\n",
       "      <td>Maldives</td>\n",
       "      <td>2022</td>\n",
       "      <td>20979.499956</td>\n",
       "    </tr>\n",
       "  </tbody>\n",
       "</table>\n",
       "<p>7662 rows × 3 columns</p>\n",
       "</div>"
      ],
      "text/plain": [
       "                          Country  Year  GDP_Per_Capita\n",
       "7661                     Zimbabwe  1990     2704.757299\n",
       "5391                     Pakistan  1990     3061.533388\n",
       "6808                     TÃ¼rkiye  1990    12535.919639\n",
       "5358  Pacific island small states  1990     5140.322553\n",
       "711                       Bermuda  1990    65961.406278\n",
       "...                           ...   ...             ...\n",
       "646                         Benin  2022     3435.171827\n",
       "4471                    Mauritius  2022    22786.978518\n",
       "2656                       Guinea  2022     2699.128855\n",
       "4537                   Micronesia  2022     3264.934866\n",
       "4311                     Maldives  2022    20979.499956\n",
       "\n",
       "[7662 rows x 3 columns]"
      ]
     },
     "execution_count": 99,
     "metadata": {},
     "output_type": "execute_result"
    }
   ],
   "source": [
    "gdp_overtime = gdp_df.sort_values('Year')\n",
    "gdp_overtime"
   ]
  },
  {
   "cell_type": "code",
   "execution_count": 103,
   "id": "35cddd22",
   "metadata": {},
   "outputs": [
    {
     "data": {
      "text/plain": [
       "Country           United Arab Emirates\n",
       "Year                              1990\n",
       "GDP_Per_Capita           105893.626059\n",
       "Name: 0, dtype: object"
      ]
     },
     "execution_count": 103,
     "metadata": {},
     "output_type": "execute_result"
    }
   ],
   "source": [
    "gdp_100k = gdp_overtime[gdp_overtime['GDP_Per_Capita'] >= 100000].reset_index(drop=True)\n",
    "gdp_100k.loc[0]"
   ]
  },
  {
   "cell_type": "markdown",
   "id": "dcded66e",
   "metadata": {},
   "source": [
    "12. Which country had the highest GDP per capita in 2020? Create a plot showing how this country's GDP per capita has changed over the timespan of the dataset."
   ]
  },
  {
   "cell_type": "code",
   "execution_count": 106,
   "id": "72bb3625",
   "metadata": {},
   "outputs": [],
   "source": [
    "\n",
    "\n",
    "\n",
    "max2020 = gdp_2020_df['GDP_Per_Capita'].max()"
   ]
  },
  {
   "cell_type": "code",
   "execution_count": 108,
   "id": "2d8bcefb",
   "metadata": {},
   "outputs": [],
   "source": [
    "max2020gdp = gdp_2020_df[gdp_2020_df['GDP_Per_Capita'] == max2020]"
   ]
  },
  {
   "cell_type": "code",
   "execution_count": 113,
   "id": "5203148e",
   "metadata": {},
   "outputs": [],
   "source": [
    "top_country = gdp_df[gdp_df['Year'] == 2020].nlargest(1, 'GDP_Per_Capita')['Country'].tolist()[0]"
   ]
  },
  {
   "cell_type": "code",
   "execution_count": 114,
   "id": "48646291",
   "metadata": {},
   "outputs": [
    {
     "data": {
      "image/png": "[encoded data removed]",
      "text/plain": [
       "<Figure size 640x480 with 1 Axes>"
      ]
     },
     "metadata": {},
     "output_type": "display_data"
    }
   ],
   "source": [
    "gdp_df[gdp_df['Country'] == top_country].plot(x = 'Year', y = 'GDP_Per_Capita', kind = 'line');"
   ]
  },
  {
   "cell_type": "markdown",
   "id": "f3e2418e",
   "metadata": {},
   "source": [
    "13. Which country had the lowest GDP per capita in 2020? Create a plot showing how this country's GDP per capita has changed over the timespan of the dataset. **Bonus question:** Is it true in general that coutries had a higher GDP per capita in 2020 than in 1990? Which countries had lower GDP per capita in 2020 than in 1990?"
   ]
  },
  {
   "cell_type": "code",
   "execution_count": 27,
   "id": "8ac9cbf6",
   "metadata": {},
   "outputs": [
    {
     "name": "stderr",
     "output_type": "stream",
     "text": [
      "C:\\Users\\dougl\\anaconda3\\Lib\\site-packages\\seaborn\\_oldcore.py:1119: FutureWarning: use_inf_as_na option is deprecated and will be removed in a future version. Convert inf values to NaN before operating instead.\n",
      "  with pd.option_context('mode.use_inf_as_na', True):\n",
      "C:\\Users\\dougl\\anaconda3\\Lib\\site-packages\\seaborn\\_oldcore.py:1119: FutureWarning: use_inf_as_na option is deprecated and will be removed in a future version. Convert inf values to NaN before operating instead.\n",
      "  with pd.option_context('mode.use_inf_as_na', True):\n"
     ]
    },
    {
     "data": {
      "image/png": "[encoded data removed]",
      "text/plain": [
       "<Figure size 1000x800 with 1 Axes>"
      ]
     },
     "metadata": {},
     "output_type": "display_data"
    }
   ],
   "source": [
    "minc = gdp2020.loc[gdp2020['GDP_Per_Capita'].idxmin()]['Country']\n",
    "gdp2020 = gdp_df[gdp_df['Year'] == 2020]\n",
    "cdata = gdp_df[gdp_df['Country'] == maxgdp]\n",
    "sns.set_theme(style='white', palette = None)\n",
    "plt.figure(figsize = (10,8))\n",
    "sns.lineplot(data = cdata, x = 'Year', y = 'GDP_Per_Capita', marker = 'o')\n",
    "plt.title(f'GDP per capita 2020')\n",
    "plt.xlabel('YEAR')\n",
    "plt.ylabel('GDP PER CAPITA')\n",
    "plt.show()"
   ]
  },
  {
   "cell_type": "code",
   "execution_count": 115,
   "id": "0f93d79a",
   "metadata": {},
   "outputs": [
    {
     "data": {
      "text/plain": [
       "'Burundi'"
      ]
     },
     "execution_count": 115,
     "metadata": {},
     "output_type": "execute_result"
    }
   ],
   "source": [
    "gdp_df[gdp_df['Year'] == 2020].nsmallest(1, 'GDP_Per_Capita')['Country'].iloc[0]"
   ]
  },
  {
   "cell_type": "code",
   "execution_count": null,
   "id": "de688823",
   "metadata": {},
   "outputs": [],
   "source": [
    "gdp_df_2020_nsmallest = "
   ]
  },
  {
   "cell_type": "code",
   "execution_count": 119,
   "id": "e3be2d45",
   "metadata": {},
   "outputs": [],
   "source": [
    "gdp_comparison = pd.merge(\n",
    "    left = gdp_df[gdp_df['Year'] == 1990],\n",
    "    right = gdp_df[gdp_df['Year'] == 2020],\n",
    "    on = 'Country',\n",
    "    suffixes = ['_1990','_2020'])"
   ]
  },
  {
   "cell_type": "code",
   "execution_count": 120,
   "id": "8c58ac62",
   "metadata": {},
   "outputs": [
    {
     "data": {
      "text/html": [
       "<div>\n",
       "<style scoped>\n",
       "    .dataframe tbody tr th:only-of-type {\n",
       "        vertical-align: middle;\n",
       "    }\n",
       "\n",
       "    .dataframe tbody tr th {\n",
       "        vertical-align: top;\n",
       "    }\n",
       "\n",
       "    .dataframe thead th {\n",
       "        text-align: right;\n",
       "    }\n",
       "</style>\n",
       "<table border=\"1\" class=\"dataframe\">\n",
       "  <thead>\n",
       "    <tr style=\"text-align: right;\">\n",
       "      <th></th>\n",
       "      <th>Country</th>\n",
       "      <th>Year_1990</th>\n",
       "      <th>GDP_Per_Capita_1990</th>\n",
       "      <th>Year_2020</th>\n",
       "      <th>GDP_Per_Capita_2020</th>\n",
       "      <th>2020_lower</th>\n",
       "    </tr>\n",
       "  </thead>\n",
       "  <tbody>\n",
       "    <tr>\n",
       "      <th>0</th>\n",
       "      <td>Africa Eastern and Southern</td>\n",
       "      <td>1990</td>\n",
       "      <td>3037.297466</td>\n",
       "      <td>2020</td>\n",
       "      <td>3455.023119</td>\n",
       "      <td>False</td>\n",
       "    </tr>\n",
       "    <tr>\n",
       "      <th>1</th>\n",
       "      <td>Africa Western and Central</td>\n",
       "      <td>1990</td>\n",
       "      <td>2788.301039</td>\n",
       "      <td>2020</td>\n",
       "      <td>3957.933804</td>\n",
       "      <td>False</td>\n",
       "    </tr>\n",
       "    <tr>\n",
       "      <th>2</th>\n",
       "      <td>Albania</td>\n",
       "      <td>1990</td>\n",
       "      <td>4827.027705</td>\n",
       "      <td>2020</td>\n",
       "      <td>13278.369769</td>\n",
       "      <td>False</td>\n",
       "    </tr>\n",
       "    <tr>\n",
       "      <th>3</th>\n",
       "      <td>Algeria</td>\n",
       "      <td>1990</td>\n",
       "      <td>8828.874473</td>\n",
       "      <td>2020</td>\n",
       "      <td>10844.770764</td>\n",
       "      <td>False</td>\n",
       "    </tr>\n",
       "    <tr>\n",
       "      <th>4</th>\n",
       "      <td>Angola</td>\n",
       "      <td>1990</td>\n",
       "      <td>5793.084512</td>\n",
       "      <td>2020</td>\n",
       "      <td>6029.691895</td>\n",
       "      <td>False</td>\n",
       "    </tr>\n",
       "    <tr>\n",
       "      <th>...</th>\n",
       "      <td>...</td>\n",
       "      <td>...</td>\n",
       "      <td>...</td>\n",
       "      <td>...</td>\n",
       "      <td>...</td>\n",
       "      <td>...</td>\n",
       "    </tr>\n",
       "    <tr>\n",
       "      <th>202</th>\n",
       "      <td>Vanuatu</td>\n",
       "      <td>1990</td>\n",
       "      <td>2774.138350</td>\n",
       "      <td>2020</td>\n",
       "      <td>2848.970240</td>\n",
       "      <td>False</td>\n",
       "    </tr>\n",
       "    <tr>\n",
       "      <th>203</th>\n",
       "      <td>Viet Nam</td>\n",
       "      <td>1990</td>\n",
       "      <td>2099.394649</td>\n",
       "      <td>2020</td>\n",
       "      <td>10450.622382</td>\n",
       "      <td>False</td>\n",
       "    </tr>\n",
       "    <tr>\n",
       "      <th>204</th>\n",
       "      <td>World</td>\n",
       "      <td>1990</td>\n",
       "      <td>9705.981267</td>\n",
       "      <td>2020</td>\n",
       "      <td>16204.169107</td>\n",
       "      <td>False</td>\n",
       "    </tr>\n",
       "    <tr>\n",
       "      <th>205</th>\n",
       "      <td>Zambia</td>\n",
       "      <td>1990</td>\n",
       "      <td>2290.039226</td>\n",
       "      <td>2020</td>\n",
       "      <td>3183.650773</td>\n",
       "      <td>False</td>\n",
       "    </tr>\n",
       "    <tr>\n",
       "      <th>206</th>\n",
       "      <td>Zimbabwe</td>\n",
       "      <td>1990</td>\n",
       "      <td>2704.757299</td>\n",
       "      <td>2020</td>\n",
       "      <td>1990.319419</td>\n",
       "      <td>True</td>\n",
       "    </tr>\n",
       "  </tbody>\n",
       "</table>\n",
       "<p>207 rows × 6 columns</p>\n",
       "</div>"
      ],
      "text/plain": [
       "                         Country  Year_1990  GDP_Per_Capita_1990  Year_2020  \\\n",
       "0    Africa Eastern and Southern       1990          3037.297466       2020   \n",
       "1     Africa Western and Central       1990          2788.301039       2020   \n",
       "2                        Albania       1990          4827.027705       2020   \n",
       "3                        Algeria       1990          8828.874473       2020   \n",
       "4                         Angola       1990          5793.084512       2020   \n",
       "..                           ...        ...                  ...        ...   \n",
       "202                      Vanuatu       1990          2774.138350       2020   \n",
       "203                     Viet Nam       1990          2099.394649       2020   \n",
       "204                        World       1990          9705.981267       2020   \n",
       "205                       Zambia       1990          2290.039226       2020   \n",
       "206                     Zimbabwe       1990          2704.757299       2020   \n",
       "\n",
       "     GDP_Per_Capita_2020  2020_lower  \n",
       "0            3455.023119       False  \n",
       "1            3957.933804       False  \n",
       "2           13278.369769       False  \n",
       "3           10844.770764       False  \n",
       "4            6029.691895       False  \n",
       "..                   ...         ...  \n",
       "202          2848.970240       False  \n",
       "203         10450.622382       False  \n",
       "204         16204.169107       False  \n",
       "205          3183.650773       False  \n",
       "206          1990.319419        True  \n",
       "\n",
       "[207 rows x 6 columns]"
      ]
     },
     "execution_count": 120,
     "metadata": {},
     "output_type": "execute_result"
    }
   ],
   "source": [
    "gdp_comparison['2020_lower'] = gdp_comparison['GDP_Per_Capita_2020'] < gdp_comparison['GDP_Per_Capita_1990']\n",
    "gdp_comparison"
   ]
  },
  {
   "cell_type": "code",
   "execution_count": 122,
   "id": "f35168c1",
   "metadata": {},
   "outputs": [
    {
     "data": {
      "text/html": [
       "<div>\n",
       "<style scoped>\n",
       "    .dataframe tbody tr th:only-of-type {\n",
       "        vertical-align: middle;\n",
       "    }\n",
       "\n",
       "    .dataframe tbody tr th {\n",
       "        vertical-align: top;\n",
       "    }\n",
       "\n",
       "    .dataframe thead th {\n",
       "        text-align: right;\n",
       "    }\n",
       "</style>\n",
       "<table border=\"1\" class=\"dataframe\">\n",
       "  <thead>\n",
       "    <tr style=\"text-align: right;\">\n",
       "      <th></th>\n",
       "      <th>Country</th>\n",
       "      <th>Year_1990</th>\n",
       "      <th>GDP_Per_Capita_1990</th>\n",
       "      <th>Year_2020</th>\n",
       "      <th>GDP_Per_Capita_2020</th>\n",
       "      <th>2020_lower</th>\n",
       "    </tr>\n",
       "  </thead>\n",
       "  <tbody>\n",
       "    <tr>\n",
       "      <th>15</th>\n",
       "      <td>Barbados</td>\n",
       "      <td>1990</td>\n",
       "      <td>14097.395550</td>\n",
       "      <td>2020</td>\n",
       "      <td>13805.777541</td>\n",
       "      <td>True</td>\n",
       "    </tr>\n",
       "    <tr>\n",
       "      <th>25</th>\n",
       "      <td>Brunei</td>\n",
       "      <td>1990</td>\n",
       "      <td>70358.724094</td>\n",
       "      <td>2020</td>\n",
       "      <td>61603.550804</td>\n",
       "      <td>True</td>\n",
       "    </tr>\n",
       "    <tr>\n",
       "      <th>28</th>\n",
       "      <td>Burundi</td>\n",
       "      <td>1990</td>\n",
       "      <td>1175.155086</td>\n",
       "      <td>2020</td>\n",
       "      <td>711.355263</td>\n",
       "      <td>True</td>\n",
       "    </tr>\n",
       "    <tr>\n",
       "      <th>34</th>\n",
       "      <td>Central African Republic</td>\n",
       "      <td>1990</td>\n",
       "      <td>1200.613390</td>\n",
       "      <td>2020</td>\n",
       "      <td>847.765012</td>\n",
       "      <td>True</td>\n",
       "    </tr>\n",
       "    <tr>\n",
       "      <th>41</th>\n",
       "      <td>Congo</td>\n",
       "      <td>1990</td>\n",
       "      <td>5007.319245</td>\n",
       "      <td>2020</td>\n",
       "      <td>3384.654335</td>\n",
       "      <td>True</td>\n",
       "    </tr>\n",
       "    <tr>\n",
       "      <th>45</th>\n",
       "      <td>Dem. Rep. Congo</td>\n",
       "      <td>1990</td>\n",
       "      <td>1750.169739</td>\n",
       "      <td>2020</td>\n",
       "      <td>1044.071214</td>\n",
       "      <td>True</td>\n",
       "    </tr>\n",
       "    <tr>\n",
       "      <th>66</th>\n",
       "      <td>Fragile and conflict affected situations</td>\n",
       "      <td>1990</td>\n",
       "      <td>4864.814075</td>\n",
       "      <td>2020</td>\n",
       "      <td>4357.621312</td>\n",
       "      <td>True</td>\n",
       "    </tr>\n",
       "    <tr>\n",
       "      <th>68</th>\n",
       "      <td>Gabon</td>\n",
       "      <td>1990</td>\n",
       "      <td>17559.006114</td>\n",
       "      <td>2020</td>\n",
       "      <td>13903.288955</td>\n",
       "      <td>True</td>\n",
       "    </tr>\n",
       "    <tr>\n",
       "      <th>76</th>\n",
       "      <td>Guinea-Bissau</td>\n",
       "      <td>1990</td>\n",
       "      <td>1998.173206</td>\n",
       "      <td>2020</td>\n",
       "      <td>1803.630591</td>\n",
       "      <td>True</td>\n",
       "    </tr>\n",
       "    <tr>\n",
       "      <th>78</th>\n",
       "      <td>Haiti</td>\n",
       "      <td>1990</td>\n",
       "      <td>3612.815105</td>\n",
       "      <td>2020</td>\n",
       "      <td>2970.462845</td>\n",
       "      <td>True</td>\n",
       "    </tr>\n",
       "    <tr>\n",
       "      <th>99</th>\n",
       "      <td>Kiribati</td>\n",
       "      <td>1990</td>\n",
       "      <td>2045.272278</td>\n",
       "      <td>2020</td>\n",
       "      <td>1897.061922</td>\n",
       "      <td>True</td>\n",
       "    </tr>\n",
       "    <tr>\n",
       "      <th>101</th>\n",
       "      <td>Kyrgyz Republic</td>\n",
       "      <td>1990</td>\n",
       "      <td>5158.317569</td>\n",
       "      <td>2020</td>\n",
       "      <td>4726.196559</td>\n",
       "      <td>True</td>\n",
       "    </tr>\n",
       "    <tr>\n",
       "      <th>115</th>\n",
       "      <td>Madagascar</td>\n",
       "      <td>1990</td>\n",
       "      <td>1808.743539</td>\n",
       "      <td>2020</td>\n",
       "      <td>1436.206950</td>\n",
       "      <td>True</td>\n",
       "    </tr>\n",
       "    <tr>\n",
       "      <th>183</th>\n",
       "      <td>Tajikistan</td>\n",
       "      <td>1990</td>\n",
       "      <td>3990.869035</td>\n",
       "      <td>2020</td>\n",
       "      <td>3651.942660</td>\n",
       "      <td>True</td>\n",
       "    </tr>\n",
       "    <tr>\n",
       "      <th>186</th>\n",
       "      <td>The Bahamas</td>\n",
       "      <td>1990</td>\n",
       "      <td>35674.455631</td>\n",
       "      <td>2020</td>\n",
       "      <td>25780.414176</td>\n",
       "      <td>True</td>\n",
       "    </tr>\n",
       "    <tr>\n",
       "      <th>187</th>\n",
       "      <td>The Gambia</td>\n",
       "      <td>1990</td>\n",
       "      <td>2080.158085</td>\n",
       "      <td>2020</td>\n",
       "      <td>2042.620289</td>\n",
       "      <td>True</td>\n",
       "    </tr>\n",
       "    <tr>\n",
       "      <th>195</th>\n",
       "      <td>Ukraine</td>\n",
       "      <td>1990</td>\n",
       "      <td>16428.480469</td>\n",
       "      <td>2020</td>\n",
       "      <td>12407.790039</td>\n",
       "      <td>True</td>\n",
       "    </tr>\n",
       "    <tr>\n",
       "      <th>196</th>\n",
       "      <td>United Arab Emirates</td>\n",
       "      <td>1990</td>\n",
       "      <td>105893.626059</td>\n",
       "      <td>2020</td>\n",
       "      <td>67668.286641</td>\n",
       "      <td>True</td>\n",
       "    </tr>\n",
       "    <tr>\n",
       "      <th>206</th>\n",
       "      <td>Zimbabwe</td>\n",
       "      <td>1990</td>\n",
       "      <td>2704.757299</td>\n",
       "      <td>2020</td>\n",
       "      <td>1990.319419</td>\n",
       "      <td>True</td>\n",
       "    </tr>\n",
       "  </tbody>\n",
       "</table>\n",
       "</div>"
      ],
      "text/plain": [
       "                                      Country  Year_1990  GDP_Per_Capita_1990  \\\n",
       "15                                   Barbados       1990         14097.395550   \n",
       "25                                     Brunei       1990         70358.724094   \n",
       "28                                    Burundi       1990          1175.155086   \n",
       "34                   Central African Republic       1990          1200.613390   \n",
       "41                                      Congo       1990          5007.319245   \n",
       "45                            Dem. Rep. Congo       1990          1750.169739   \n",
       "66   Fragile and conflict affected situations       1990          4864.814075   \n",
       "68                                      Gabon       1990         17559.006114   \n",
       "76                              Guinea-Bissau       1990          1998.173206   \n",
       "78                                      Haiti       1990          3612.815105   \n",
       "99                                   Kiribati       1990          2045.272278   \n",
       "101                           Kyrgyz Republic       1990          5158.317569   \n",
       "115                                Madagascar       1990          1808.743539   \n",
       "183                                Tajikistan       1990          3990.869035   \n",
       "186                               The Bahamas       1990         35674.455631   \n",
       "187                                The Gambia       1990          2080.158085   \n",
       "195                                   Ukraine       1990         16428.480469   \n",
       "196                      United Arab Emirates       1990        105893.626059   \n",
       "206                                  Zimbabwe       1990          2704.757299   \n",
       "\n",
       "     Year_2020  GDP_Per_Capita_2020  2020_lower  \n",
       "15        2020         13805.777541        True  \n",
       "25        2020         61603.550804        True  \n",
       "28        2020           711.355263        True  \n",
       "34        2020           847.765012        True  \n",
       "41        2020          3384.654335        True  \n",
       "45        2020          1044.071214        True  \n",
       "66        2020          4357.621312        True  \n",
       "68        2020         13903.288955        True  \n",
       "76        2020          1803.630591        True  \n",
       "78        2020          2970.462845        True  \n",
       "99        2020          1897.061922        True  \n",
       "101       2020          4726.196559        True  \n",
       "115       2020          1436.206950        True  \n",
       "183       2020          3651.942660        True  \n",
       "186       2020         25780.414176        True  \n",
       "187       2020          2042.620289        True  \n",
       "195       2020         12407.790039        True  \n",
       "196       2020         67668.286641        True  \n",
       "206       2020          1990.319419        True  "
      ]
     },
     "execution_count": 122,
     "metadata": {},
     "output_type": "execute_result"
    }
   ],
   "source": [
    "gdp_comparison[gdp_comparison['2020_lower'] == True]"
   ]
  },
  {
   "cell_type": "markdown",
   "id": "6d987d32",
   "metadata": {},
   "source": [
    "14. Read in the internet use dataset into a DataFrame named `internet_df`. You will likely get errors when doing this. Check the arguments for the read_csv function to find ones that can help correct the errors (https://pandas.pydata.org/docs/reference/api/pandas.read_csv.html) Once you are able to read it in, take per a look at the top and bottom few rows to make sure that it has been read in correctly. Also, check the datatypes of the columns."
   ]
  },
  {
   "cell_type": "code",
   "execution_count": 28,
   "id": "15d9d5b8",
   "metadata": {},
   "outputs": [
    {
     "data": {
      "text/html": [
       "<div>\n",
       "<style scoped>\n",
       "    .dataframe tbody tr th:only-of-type {\n",
       "        vertical-align: middle;\n",
       "    }\n",
       "\n",
       "    .dataframe tbody tr th {\n",
       "        vertical-align: top;\n",
       "    }\n",
       "\n",
       "    .dataframe thead th {\n",
       "        text-align: right;\n",
       "    }\n",
       "</style>\n",
       "<table border=\"1\" class=\"dataframe\">\n",
       "  <thead>\n",
       "    <tr style=\"text-align: right;\">\n",
       "      <th></th>\n",
       "      <th>Country or Area</th>\n",
       "      <th>Year</th>\n",
       "      <th>Value</th>\n",
       "      <th>Value Footnotes</th>\n",
       "    </tr>\n",
       "  </thead>\n",
       "  <tbody>\n",
       "    <tr>\n",
       "      <th>6083</th>\n",
       "      <td>footnoteSeqID</td>\n",
       "      <td>Footnote</td>\n",
       "      <td>NaN</td>\n",
       "      <td>NaN</td>\n",
       "    </tr>\n",
       "  </tbody>\n",
       "</table>\n",
       "</div>"
      ],
      "text/plain": [
       "     Country or Area      Year  Value Value Footnotes\n",
       "6083   footnoteSeqID  Footnote    NaN             NaN"
      ]
     },
     "execution_count": 28,
     "metadata": {},
     "output_type": "execute_result"
    }
   ],
   "source": [
    "internet_df = pd.read_csv(r\"C:\\Users\\dougl\\DA12\\projects\\un-python-Dkaplan8\\data\\internet_use.csv\", nrows=6084)\n",
    "internet_df.tail(1)"
   ]
  },
  {
   "cell_type": "markdown",
   "id": "5a099227",
   "metadata": {},
   "source": [
    "15. Drop the `Value Footnotes` column and rename the remaining three to 'Country', 'Year', and 'Internet_Users_Pct'."
   ]
  },
  {
   "cell_type": "code",
   "execution_count": 29,
   "id": "9321a571",
   "metadata": {},
   "outputs": [
    {
     "data": {
      "text/html": [
       "<div>\n",
       "<style scoped>\n",
       "    .dataframe tbody tr th:only-of-type {\n",
       "        vertical-align: middle;\n",
       "    }\n",
       "\n",
       "    .dataframe tbody tr th {\n",
       "        vertical-align: top;\n",
       "    }\n",
       "\n",
       "    .dataframe thead th {\n",
       "        text-align: right;\n",
       "    }\n",
       "</style>\n",
       "<table border=\"1\" class=\"dataframe\">\n",
       "  <thead>\n",
       "    <tr style=\"text-align: right;\">\n",
       "      <th></th>\n",
       "      <th>Country or Area</th>\n",
       "      <th>Year</th>\n",
       "      <th>Value</th>\n",
       "    </tr>\n",
       "  </thead>\n",
       "  <tbody>\n",
       "    <tr>\n",
       "      <th>6083</th>\n",
       "      <td>footnoteSeqID</td>\n",
       "      <td>Footnote</td>\n",
       "      <td>NaN</td>\n",
       "    </tr>\n",
       "  </tbody>\n",
       "</table>\n",
       "</div>"
      ],
      "text/plain": [
       "     Country or Area      Year  Value\n",
       "6083   footnoteSeqID  Footnote    NaN"
      ]
     },
     "execution_count": 29,
     "metadata": {},
     "output_type": "execute_result"
    }
   ],
   "source": [
    "internet_df = internet_df.drop(columns = ['Value Footnotes'])\n",
    "internet_df.tail(1)"
   ]
  },
  {
   "cell_type": "code",
   "execution_count": 30,
   "id": "773f13b3",
   "metadata": {},
   "outputs": [
    {
     "data": {
      "text/html": [
       "<div>\n",
       "<style scoped>\n",
       "    .dataframe tbody tr th:only-of-type {\n",
       "        vertical-align: middle;\n",
       "    }\n",
       "\n",
       "    .dataframe tbody tr th {\n",
       "        vertical-align: top;\n",
       "    }\n",
       "\n",
       "    .dataframe thead th {\n",
       "        text-align: right;\n",
       "    }\n",
       "</style>\n",
       "<table border=\"1\" class=\"dataframe\">\n",
       "  <thead>\n",
       "    <tr style=\"text-align: right;\">\n",
       "      <th></th>\n",
       "      <th>Country</th>\n",
       "      <th>Year</th>\n",
       "      <th>Internet_Users_Pct</th>\n",
       "    </tr>\n",
       "  </thead>\n",
       "  <tbody>\n",
       "    <tr>\n",
       "      <th>6083</th>\n",
       "      <td>footnoteSeqID</td>\n",
       "      <td>Footnote</td>\n",
       "      <td>NaN</td>\n",
       "    </tr>\n",
       "  </tbody>\n",
       "</table>\n",
       "</div>"
      ],
      "text/plain": [
       "            Country      Year  Internet_Users_Pct\n",
       "6083  footnoteSeqID  Footnote                 NaN"
      ]
     },
     "execution_count": 30,
     "metadata": {},
     "output_type": "execute_result"
    }
   ],
   "source": [
    "internet_df.columns = ['Country', 'Year', 'Internet_Users_Pct']\n",
    "internet_df.tail(1)"
   ]
  },
  {
   "cell_type": "markdown",
   "id": "390b5a7d",
   "metadata": {},
   "source": [
    "16. Look at the number of observations in this dataset per year. What do you notice?"
   ]
  },
  {
   "cell_type": "code",
   "execution_count": 31,
   "id": "9a5062b5",
   "metadata": {},
   "outputs": [
    {
     "data": {
      "text/plain": [
       "Year\n",
       "1990        226\n",
       "2007        217\n",
       "2008        214\n",
       "2011        214\n",
       "2009        214\n",
       "2002        214\n",
       "2001        212\n",
       "2005        212\n",
       "2006        212\n",
       "2004        210\n",
       "2000        210\n",
       "2010        209\n",
       "2012        209\n",
       "2003        208\n",
       "1999        207\n",
       "2016        206\n",
       "2017        205\n",
       "2014        204\n",
       "2013        203\n",
       "2015        203\n",
       "1998        195\n",
       "1997        188\n",
       "2021        186\n",
       "2020        186\n",
       "2019        185\n",
       "2022        184\n",
       "1996        177\n",
       "2018        174\n",
       "1995        141\n",
       "1994         92\n",
       "1993         66\n",
       "1992         50\n",
       "1991         39\n",
       "2023         11\n",
       "Footnote      1\n",
       "Name: count, dtype: int64"
      ]
     },
     "execution_count": 31,
     "metadata": {},
     "output_type": "execute_result"
    }
   ],
   "source": [
    "internet_df.value_counts('Year')\n",
    "#most observations in 1990"
   ]
  },
  {
   "cell_type": "markdown",
   "id": "d732aa79",
   "metadata": {},
   "source": [
    "17. What is the first year to have a non-zero internet users percentage value?"
   ]
  },
  {
   "cell_type": "code",
   "execution_count": 32,
   "id": "3cffa1c8",
   "metadata": {},
   "outputs": [
    {
     "name": "stdout",
     "output_type": "stream",
     "text": [
      "1990\n"
     ]
    }
   ],
   "source": [
    "nzeroint = internet_df[internet_df['Internet_Users_Pct'] > 0]\n",
    "firstnzeroint = nzeroint.sort_values('Year').iloc[0]['Year']\n",
    "print(firstnzeroint)"
   ]
  },
  {
   "cell_type": "markdown",
   "id": "ec7b2e0f",
   "metadata": {},
   "source": [
    "18. How does the distribution of internet users percent differ for 2000 and 2014?"
   ]
  },
  {
   "cell_type": "code",
   "execution_count": 50,
   "id": "d5befa42",
   "metadata": {},
   "outputs": [
    {
     "data": {
      "text/html": [
       "<div>\n",
       "<style scoped>\n",
       "    .dataframe tbody tr th:only-of-type {\n",
       "        vertical-align: middle;\n",
       "    }\n",
       "\n",
       "    .dataframe tbody tr th {\n",
       "        vertical-align: top;\n",
       "    }\n",
       "\n",
       "    .dataframe thead th {\n",
       "        text-align: right;\n",
       "    }\n",
       "</style>\n",
       "<table border=\"1\" class=\"dataframe\">\n",
       "  <thead>\n",
       "    <tr style=\"text-align: right;\">\n",
       "      <th></th>\n",
       "      <th>Country</th>\n",
       "      <th>Year</th>\n",
       "      <th>Internet_Users_Pct</th>\n",
       "    </tr>\n",
       "  </thead>\n",
       "  <tbody>\n",
       "    <tr>\n",
       "      <th>5</th>\n",
       "      <td>Afghanistan</td>\n",
       "      <td>2014.0</td>\n",
       "      <td>7.0000</td>\n",
       "    </tr>\n",
       "    <tr>\n",
       "      <th>28</th>\n",
       "      <td>Albania</td>\n",
       "      <td>2014.0</td>\n",
       "      <td>54.3000</td>\n",
       "    </tr>\n",
       "    <tr>\n",
       "      <th>57</th>\n",
       "      <td>Algeria</td>\n",
       "      <td>2014.0</td>\n",
       "      <td>29.5000</td>\n",
       "    </tr>\n",
       "    <tr>\n",
       "      <th>87</th>\n",
       "      <td>Andorra</td>\n",
       "      <td>2014.0</td>\n",
       "      <td>86.1000</td>\n",
       "    </tr>\n",
       "    <tr>\n",
       "      <th>114</th>\n",
       "      <td>Angola</td>\n",
       "      <td>2014.0</td>\n",
       "      <td>21.3623</td>\n",
       "    </tr>\n",
       "  </tbody>\n",
       "</table>\n",
       "</div>"
      ],
      "text/plain": [
       "         Country    Year  Internet_Users_Pct\n",
       "5    Afghanistan  2014.0              7.0000\n",
       "28       Albania  2014.0             54.3000\n",
       "57       Algeria  2014.0             29.5000\n",
       "87       Andorra  2014.0             86.1000\n",
       "114       Angola  2014.0             21.3623"
      ]
     },
     "execution_count": 50,
     "metadata": {},
     "output_type": "execute_result"
    }
   ],
   "source": [
    "intuse2014 = internet_df.loc[internet_df['Year'].isin([2014])]\n",
    "intuse2014.head()"
   ]
  },
  {
   "cell_type": "code",
   "execution_count": 55,
   "id": "124aff72",
   "metadata": {},
   "outputs": [
    {
     "data": {
      "text/html": [
       "<div>\n",
       "<style scoped>\n",
       "    .dataframe tbody tr th:only-of-type {\n",
       "        vertical-align: middle;\n",
       "    }\n",
       "\n",
       "    .dataframe tbody tr th {\n",
       "        vertical-align: top;\n",
       "    }\n",
       "\n",
       "    .dataframe thead th {\n",
       "        text-align: right;\n",
       "    }\n",
       "</style>\n",
       "<table border=\"1\" class=\"dataframe\">\n",
       "  <thead>\n",
       "    <tr style=\"text-align: right;\">\n",
       "      <th></th>\n",
       "      <th>Country</th>\n",
       "      <th>Year</th>\n",
       "      <th>Internet_Users_Pct</th>\n",
       "    </tr>\n",
       "  </thead>\n",
       "  <tbody>\n",
       "    <tr>\n",
       "      <th>42</th>\n",
       "      <td>Albania</td>\n",
       "      <td>2000.0</td>\n",
       "      <td>0.114097</td>\n",
       "    </tr>\n",
       "    <tr>\n",
       "      <th>71</th>\n",
       "      <td>Algeria</td>\n",
       "      <td>2000.0</td>\n",
       "      <td>0.491706</td>\n",
       "    </tr>\n",
       "    <tr>\n",
       "      <th>100</th>\n",
       "      <td>Andorra</td>\n",
       "      <td>2000.0</td>\n",
       "      <td>10.538800</td>\n",
       "    </tr>\n",
       "    <tr>\n",
       "      <th>128</th>\n",
       "      <td>Angola</td>\n",
       "      <td>2000.0</td>\n",
       "      <td>0.105046</td>\n",
       "    </tr>\n",
       "    <tr>\n",
       "      <th>150</th>\n",
       "      <td>Anguilla</td>\n",
       "      <td>2000.0</td>\n",
       "      <td>22.405400</td>\n",
       "    </tr>\n",
       "  </tbody>\n",
       "</table>\n",
       "</div>"
      ],
      "text/plain": [
       "      Country    Year  Internet_Users_Pct\n",
       "42    Albania  2000.0            0.114097\n",
       "71    Algeria  2000.0            0.491706\n",
       "100   Andorra  2000.0           10.538800\n",
       "128    Angola  2000.0            0.105046\n",
       "150  Anguilla  2000.0           22.405400"
      ]
     },
     "execution_count": 55,
     "metadata": {},
     "output_type": "execute_result"
    }
   ],
   "source": [
    "intuse2000 = internet_df.loc[internet_df['Year'].isin([2000])]\n",
    "intuse2000.head()"
   ]
  },
  {
   "cell_type": "code",
   "execution_count": 71,
   "id": "889a0d3c",
   "metadata": {},
   "outputs": [
    {
     "data": {
      "text/plain": [
       "<Axes: title={'center': '2000 vs 2014 Internet Use'}>"
      ]
     },
     "execution_count": 71,
     "metadata": {},
     "output_type": "execute_result"
    },
    {
     "data": {
      "image/png": "[encoded data removed]",
      "text/plain": [
       "<Figure size 1000x600 with 1 Axes>"
      ]
     },
     "metadata": {},
     "output_type": "display_data"
    }
   ],
   "source": [
    "intuse2014['Internet_Users_Pct'].hist(bins = 25,\n",
    "                            color = 'cornflowerblue',\n",
    "                            edgecolor = 'black',\n",
    "                            figsize = (10,6),\n",
    "                            grid = False)\n",
    "\n",
    "\n",
    "plt.title('2000 vs 2014 Internet Use', fontsize = 16);\n",
    "intuse2000['Internet_Users_Pct'].hist(bins = 25,\n",
    "                            color = 'coral',\n",
    "                            edgecolor = 'blue',\n",
    "                            figsize = (10,6),\n",
    "                            grid = False)\n",
    "\n"
   ]
  },
  {
   "cell_type": "code",
   "execution_count": 34,
   "id": "79f03f2d",
   "metadata": {},
   "outputs": [],
   "source": [
    "# users2000 = internet_df[internet_df['Year'] == 2000]\n",
    "# users2014 = internet_df[internet_df['Year'] == 2014]\n",
    "# combinedyears = pd.concat([users2000, users2014])\n",
    "# plt.figure(figsize=(12, 6))\n",
    "# sns.histplot(users2000['Internet_Users_Pct'], bins=20, kde=True, color='blue')\n",
    "# plt.title('Distribution of Internet Users Percentage in 2000')\n",
    "# plt.xlabel('Internet Users Percent')\n",
    "# plt.ylabel('Frequency')\n",
    "# sns.histplot(users2014['Internet_Users_Pct'], bins=20, kde=True, color='green')\n",
    "# plt.title('Distribution of Internet Users Percentage in 2014')\n",
    "# plt.xlabel('Internet Users Percent')\n",
    "# plt.ylabel('Frequency')\n",
    "# plt.show()"
   ]
  },
  {
   "cell_type": "markdown",
   "id": "a41ae3af",
   "metadata": {},
   "source": [
    "19. For how many countries was the percentage of internet users below 5% in 2014?"
   ]
  },
  {
   "cell_type": "code",
   "execution_count": 45,
   "id": "54148f1d",
   "metadata": {},
   "outputs": [
    {
     "data": {
      "text/html": [
       "<div>\n",
       "<style scoped>\n",
       "    .dataframe tbody tr th:only-of-type {\n",
       "        vertical-align: middle;\n",
       "    }\n",
       "\n",
       "    .dataframe tbody tr th {\n",
       "        vertical-align: top;\n",
       "    }\n",
       "\n",
       "    .dataframe thead th {\n",
       "        text-align: right;\n",
       "    }\n",
       "</style>\n",
       "<table border=\"1\" class=\"dataframe\">\n",
       "  <thead>\n",
       "    <tr style=\"text-align: right;\">\n",
       "      <th></th>\n",
       "      <th>Country</th>\n",
       "      <th>Year</th>\n",
       "      <th>Internet_Users_Pct</th>\n",
       "    </tr>\n",
       "  </thead>\n",
       "  <tbody>\n",
       "    <tr>\n",
       "      <th>5</th>\n",
       "      <td>Afghanistan</td>\n",
       "      <td>2014.0</td>\n",
       "      <td>7.0000</td>\n",
       "    </tr>\n",
       "    <tr>\n",
       "      <th>28</th>\n",
       "      <td>Albania</td>\n",
       "      <td>2014.0</td>\n",
       "      <td>54.3000</td>\n",
       "    </tr>\n",
       "    <tr>\n",
       "      <th>57</th>\n",
       "      <td>Algeria</td>\n",
       "      <td>2014.0</td>\n",
       "      <td>29.5000</td>\n",
       "    </tr>\n",
       "    <tr>\n",
       "      <th>87</th>\n",
       "      <td>Andorra</td>\n",
       "      <td>2014.0</td>\n",
       "      <td>86.1000</td>\n",
       "    </tr>\n",
       "    <tr>\n",
       "      <th>114</th>\n",
       "      <td>Angola</td>\n",
       "      <td>2014.0</td>\n",
       "      <td>21.3623</td>\n",
       "    </tr>\n",
       "  </tbody>\n",
       "</table>\n",
       "</div>"
      ],
      "text/plain": [
       "         Country    Year  Internet_Users_Pct\n",
       "5    Afghanistan  2014.0              7.0000\n",
       "28       Albania  2014.0             54.3000\n",
       "57       Algeria  2014.0             29.5000\n",
       "87       Andorra  2014.0             86.1000\n",
       "114       Angola  2014.0             21.3623"
      ]
     },
     "execution_count": 45,
     "metadata": {},
     "output_type": "execute_result"
    }
   ],
   "source": [
    "intuse2014 = internet_df.loc[internet_df['Year'].isin([2014])]\n",
    "intuse2014.head()"
   ]
  },
  {
   "cell_type": "code",
   "execution_count": 74,
   "id": "f9c2638a",
   "metadata": {},
   "outputs": [
    {
     "data": {
      "text/plain": [
       "Country               10\n",
       "Year                  10\n",
       "Internet_Users_Pct    10\n",
       "dtype: int64"
      ]
     },
     "execution_count": 74,
     "metadata": {},
     "output_type": "execute_result"
    }
   ],
   "source": [
    "intuseless5 = intuse2014[intuse2014['Internet_Users_Pct'] <5]\n",
    "intuseless5.count()"
   ]
  },
  {
   "cell_type": "markdown",
   "id": "09773781",
   "metadata": {},
   "source": [
    "20. Merge the two DataFrames to one. Do this in a way that keeps **all rows** from each of the two DataFrames. Call the new DataFrame `gdp_and_internet_use`. Look at the first and last few rows to confirm that it merged correctly."
   ]
  },
  {
   "cell_type": "code",
   "execution_count": 75,
   "id": "719be2ca",
   "metadata": {},
   "outputs": [],
   "source": [
    "internet_df.Year = internet_df.Year.astype('int')\n",
    "\n",
    "\n",
    "# gdp_df['Year']= pd.to_numeric(gdp_df['Year'], errors='coerce')\n",
    "# internet_df['Year'] = pd.to_numeric(internet_df['Year'], errors='coerce')\n",
    "# gdp_df = gdp_df.dropna(subset=['Year'])\n",
    "# internet_df= internet_df.dropna(subset=['Year'])\n",
    "# gdp_df.loc[:, 'Year']= gdp_df['Year'].astype(int)\n",
    "# internet_df.loc[:, 'Year']= internet_df['Year'].astype(int)\n",
    "# gdp_and_internet_use = pd.merge(gdp_df, internet_df, on=['Country', 'Year'], how='outer')\n",
    "# print(gdp_and_internet_use.head())\n",
    "# print(gdp_and_internet_use.tail())"
   ]
  },
  {
   "cell_type": "code",
   "execution_count": 79,
   "id": "54eaeb6c",
   "metadata": {},
   "outputs": [
    {
     "data": {
      "text/html": [
       "<div>\n",
       "<style scoped>\n",
       "    .dataframe tbody tr th:only-of-type {\n",
       "        vertical-align: middle;\n",
       "    }\n",
       "\n",
       "    .dataframe tbody tr th {\n",
       "        vertical-align: top;\n",
       "    }\n",
       "\n",
       "    .dataframe thead th {\n",
       "        text-align: right;\n",
       "    }\n",
       "</style>\n",
       "<table border=\"1\" class=\"dataframe\">\n",
       "  <thead>\n",
       "    <tr style=\"text-align: right;\">\n",
       "      <th></th>\n",
       "      <th>Country</th>\n",
       "      <th>Year</th>\n",
       "      <th>Internet_Users_Pct</th>\n",
       "      <th>GDP_Per_Capita</th>\n",
       "    </tr>\n",
       "  </thead>\n",
       "  <tbody>\n",
       "    <tr>\n",
       "      <th>0</th>\n",
       "      <td>Afghanistan</td>\n",
       "      <td>2019</td>\n",
       "      <td>17.60</td>\n",
       "      <td>2079.921861</td>\n",
       "    </tr>\n",
       "    <tr>\n",
       "      <th>1</th>\n",
       "      <td>Afghanistan</td>\n",
       "      <td>2018</td>\n",
       "      <td>16.80</td>\n",
       "      <td>2060.698973</td>\n",
       "    </tr>\n",
       "    <tr>\n",
       "      <th>2</th>\n",
       "      <td>Afghanistan</td>\n",
       "      <td>2017</td>\n",
       "      <td>13.50</td>\n",
       "      <td>2096.093111</td>\n",
       "    </tr>\n",
       "    <tr>\n",
       "      <th>3</th>\n",
       "      <td>Afghanistan</td>\n",
       "      <td>2016</td>\n",
       "      <td>11.00</td>\n",
       "      <td>2101.422187</td>\n",
       "    </tr>\n",
       "    <tr>\n",
       "      <th>4</th>\n",
       "      <td>Afghanistan</td>\n",
       "      <td>2015</td>\n",
       "      <td>8.26</td>\n",
       "      <td>2108.714173</td>\n",
       "    </tr>\n",
       "  </tbody>\n",
       "</table>\n",
       "</div>"
      ],
      "text/plain": [
       "       Country  Year  Internet_Users_Pct  GDP_Per_Capita\n",
       "0  Afghanistan  2019               17.60     2079.921861\n",
       "1  Afghanistan  2018               16.80     2060.698973\n",
       "2  Afghanistan  2017               13.50     2096.093111\n",
       "3  Afghanistan  2016               11.00     2101.422187\n",
       "4  Afghanistan  2015                8.26     2108.714173"
      ]
     },
     "execution_count": 79,
     "metadata": {},
     "output_type": "execute_result"
    }
   ],
   "source": [
    "gdp_and_internet_use = pd.merge(internet_df, gdp_df, how='outer', on = ['Country', 'Year'])\n",
    "gdp_and_internet_use.head()"
   ]
  },
  {
   "cell_type": "markdown",
   "id": "9fb24235",
   "metadata": {},
   "source": [
    "21. Find the three countries with the highest internet users percentage in 2014. Use a seaborn FacetGrid (https://seaborn.pydata.org/generated/seaborn.FacetGrid.html) to compare how the GDP per capita has changed over time for these three countries. What do you notice?"
   ]
  },
  {
   "cell_type": "code",
   "execution_count": 85,
   "id": "bb931e46",
   "metadata": {},
   "outputs": [],
   "source": [
    "gdp_and_internet_use=gdp_and_internet_use.sort_values(by = 'Internet_Users_Pct', ascending = False).dropna()"
   ]
  },
  {
   "cell_type": "code",
   "execution_count": 86,
   "id": "7df83244",
   "metadata": {},
   "outputs": [
    {
     "data": {
      "text/html": [
       "<div>\n",
       "<style scoped>\n",
       "    .dataframe tbody tr th:only-of-type {\n",
       "        vertical-align: middle;\n",
       "    }\n",
       "\n",
       "    .dataframe tbody tr th {\n",
       "        vertical-align: top;\n",
       "    }\n",
       "\n",
       "    .dataframe thead th {\n",
       "        text-align: right;\n",
       "    }\n",
       "</style>\n",
       "<table border=\"1\" class=\"dataframe\">\n",
       "  <thead>\n",
       "    <tr style=\"text-align: right;\">\n",
       "      <th></th>\n",
       "      <th>Country</th>\n",
       "      <th>Year</th>\n",
       "      <th>Internet_Users_Pct</th>\n",
       "      <th>GDP_Per_Capita</th>\n",
       "    </tr>\n",
       "  </thead>\n",
       "  <tbody>\n",
       "    <tr>\n",
       "      <th>2592</th>\n",
       "      <td>Iceland</td>\n",
       "      <td>2014</td>\n",
       "      <td>98.1580</td>\n",
       "      <td>50450.741612</td>\n",
       "    </tr>\n",
       "    <tr>\n",
       "      <th>602</th>\n",
       "      <td>Bermuda</td>\n",
       "      <td>2014</td>\n",
       "      <td>96.8000</td>\n",
       "      <td>77361.104881</td>\n",
       "    </tr>\n",
       "    <tr>\n",
       "      <th>4173</th>\n",
       "      <td>Norway</td>\n",
       "      <td>2014</td>\n",
       "      <td>96.3005</td>\n",
       "      <td>62838.515727</td>\n",
       "    </tr>\n",
       "  </tbody>\n",
       "</table>\n",
       "</div>"
      ],
      "text/plain": [
       "      Country  Year  Internet_Users_Pct  GDP_Per_Capita\n",
       "2592  Iceland  2014             98.1580    50450.741612\n",
       "602   Bermuda  2014             96.8000    77361.104881\n",
       "4173   Norway  2014             96.3005    62838.515727"
      ]
     },
     "execution_count": 86,
     "metadata": {},
     "output_type": "execute_result"
    }
   ],
   "source": [
    "gdp_and_internet_use2014 = gdp_and_internet_use[gdp_and_internet_use['Year'] == 2014]\n",
    "gdp_and_internet_use2014.head(3)"
   ]
  },
  {
   "cell_type": "code",
   "execution_count": 38,
   "id": "03833a7b",
   "metadata": {},
   "outputs": [],
   "source": [
    "# top3countries = internet_df[internet_df['Year']== 2014].nlargest(3, 'Internet_Users_Pct')['Country']\n",
    "# top3 = gdp_and_internet_use[gdp_and_internet_use['Country'].isin(top3countries)]\n",
    "# graph = sns.FacetGrid(gdp_and_internet_use, col='Country', hue='Country', col_wrap=3, height=5)\n",
    "# graph.map(sns.lineplot, 'Year', 'GDP_Per_Capita').add_legend()\n",
    "# graph.set_axis_labels( 'Year', 'GDP_Per_Capita')\n",
    "# plt.subplots_adjust(top= 0.9)\n",
    "# graph.fig.suptitle(\"GDP Top 3 Highest Int Pct In 2014\")\n",
    "# plt.show()"
   ]
  },
  {
   "cell_type": "markdown",
   "id": "8787285a",
   "metadata": {},
   "source": [
    "22. Subset `gdp_and_internet_use` to just the year 2014. Save this as a new dataframe named `gdp_and_internet_use_2014`."
   ]
  },
  {
   "cell_type": "code",
   "execution_count": 39,
   "id": "cab38aa4",
   "metadata": {},
   "outputs": [
    {
     "name": "stdout",
     "output_type": "stream",
     "text": [
      "                          Country    Year  GDP_Per_Capita  Internet_Users_Pct\n",
      "7                     Afghanistan  2014.0     2144.449634              7.0000\n",
      "28    Africa Eastern and Southern  2014.0     3642.875373                 NaN\n",
      "61     Africa Western and Central  2014.0     4146.994622                 NaN\n",
      "94                        Albania  2014.0    11586.817446             54.3000\n",
      "127                       Algeria  2014.0    11561.259795             29.5000\n",
      "...                           ...     ...             ...                 ...\n",
      "8954         Syrian Arab Republic  2014.0             NaN             28.0900\n",
      "8991                      Türkiye  2014.0             NaN             51.0374\n",
      "9022                    Venezuela  2014.0             NaN             57.0000\n",
      "9049          Virgin Islands (US)  2014.0             NaN             50.0700\n",
      "9092                        Yemen  2014.0             NaN             22.5500\n",
      "\n",
      "[284 rows x 4 columns]\n"
     ]
    }
   ],
   "source": [
    "gdp_and_internet_use_2014 = gdp_and_internet_use[gdp_and_internet_use['Year']== 2014]\n",
    "print(gdp_and_internet_use_2014)"
   ]
  },
  {
   "cell_type": "markdown",
   "id": "54af1765",
   "metadata": {},
   "source": [
    "23. Create a plot which compares Internet Users Percentage and GDP per Capita for the year 2014. What do you notice from this plot? If you see any unusual points, investigate them."
   ]
  },
  {
   "cell_type": "code",
   "execution_count": 87,
   "id": "dc141102",
   "metadata": {},
   "outputs": [
    {
     "data": {
      "text/plain": [
       "<Axes: xlabel='GDP_Per_Capita', ylabel='Internet_Users_Pct'>"
      ]
     },
     "execution_count": 87,
     "metadata": {},
     "output_type": "execute_result"
    },
    {
     "data": {
      "image/png": "[encoded data removed]",
      "text/plain": [
       "<Figure size 640x480 with 1 Axes>"
      ]
     },
     "metadata": {},
     "output_type": "display_data"
    }
   ],
   "source": [
    "gdp_and_internet_use_2014.plot.scatter(y = 'Internet_Users_Pct', x = 'GDP_Per_Capita')"
   ]
  },
  {
   "cell_type": "markdown",
   "id": "50e5ae7c",
   "metadata": {},
   "source": [
    "24. **Stretch Question:** Use the `qcut` function from pandas (https://pandas.pydata.org/docs/reference/api/pandas.qcut.html) to divide countries in `gdp_per_capita_2014` into three groups based on their GDP per capita values. Label these groups as \"Low\", \"Medium\", and \"High\". Put these labels in a new column, named \"GDP_group\"."
   ]
  },
  {
   "cell_type": "code",
   "execution_count": null,
   "id": "0c61e265",
   "metadata": {},
   "outputs": [],
   "source": []
  },
  {
   "cell_type": "markdown",
   "id": "f2160dec",
   "metadata": {},
   "source": [
    "25. **Stretch Question:** How does the median internet users percentage compare for the three gdp groups?"
   ]
  },
  {
   "cell_type": "code",
   "execution_count": null,
   "id": "a2836741",
   "metadata": {},
   "outputs": [],
   "source": []
  },
  {
   "cell_type": "markdown",
   "id": "db5cad88",
   "metadata": {},
   "source": [
    "### Bonus exercise:\n",
    "1.    Download another data set from the UN data (http://data.un.org/Explorer.aspx) to merge with your data and explore."
   ]
  }
 ],
 "metadata": {
  "kernelspec": {
   "display_name": "Python 3 (ipykernel)",
   "language": "python",
   "name": "python3"
  },
  "language_info": {
   "codemirror_mode": {
    "name": "ipython",
    "version": 3
   },
   "file_extension": ".py",
   "mimetype": "text/x-python",
   "name": "python",
   "nbconvert_exporter": "python",
   "pygments_lexer": "ipython3",
   "version": "3.11.7"
  }
 },
 "nbformat": 4,
 "nbformat_minor": 5
}
